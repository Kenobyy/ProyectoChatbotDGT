{
 "cells": [
  {
   "cell_type": "markdown",
   "metadata": {},
   "source": [
    "1. Importación librerías para ETL y visualización local."
   ]
  },
  {
   "cell_type": "code",
   "execution_count": null,
   "metadata": {},
   "outputs": [],
   "source": [
    "import pandas as pd\n",
    "import matplotlib.pyplot as plt\n",
    "import seaborn as sns"
   ]
  },
  {
   "cell_type": "markdown",
   "metadata": {},
   "source": [
    "2. Creación de DataFrame de la BBD y primera tranformación de columnas de fechas en fotmato fecha. "
   ]
  },
  {
   "cell_type": "code",
   "execution_count": null,
   "metadata": {},
   "outputs": [],
   "source": [
    "\n",
    "# Replace 'tu_archivo.txt' with the actual path to your file\n",
    "file_path = 'mat_2021_2023.txt'\n",
    "\n",
    "# Read the data into a DataFrame using pandas\n",
    "data = pd.read_csv(file_path, sep='\\t', quotechar='\"', encoding='utf-8')\n",
    "\n"
   ]
  },
  {
   "cell_type": "markdown",
   "metadata": {},
   "source": [
    "La columna fecha matriculación es una de las columnas más importante para que no haya valores faltantes, ya que el alcande de este proyecto es poder analizar la venta de vehículos según marcas entre 2021 - 2023. Para ello comprobamos si hay valores faltantes y si el formato de la fecha es el adecuado"
   ]
  },
  {
   "cell_type": "code",
   "execution_count": null,
   "metadata": {},
   "outputs": [],
   "source": [
    "#Valores faltantes\n",
    "miss_values_data_fecha_matricula = data['FEC_MATRICULA'].isnull().sum()\n",
    "print(miss_values_data_fecha_matricula)"
   ]
  },
  {
   "cell_type": "code",
   "execution_count": null,
   "metadata": {},
   "outputs": [],
   "source": [
    "# Creamos una lista para almacenar los índices de las filas con errores\n",
    "indices_con_errores = []\n",
    "\n",
    "# Iteramos sobre los valores de la columna 'FEC_MATRICULA'\n",
    "for index, value in data['FEC_MATRICULA'].items():\n",
    "    try:\n",
    "        pd.to_datetime(value, format='%d%m%Y')\n",
    "    except ValueError:\n",
    "        # Si se produce un error al intentar convertir a fecha, añadimos el índice a la lista\n",
    "        indices_con_errores.append(index)\n",
    "\n",
    "# Filtramos el DataFrame original usando los índices con errores\n",
    "filas_con_errores = data.loc[indices_con_errores]\n",
    "\n",
    "# Mostramos las filas con errores\n",
    "print(filas_con_errores)"
   ]
  },
  {
   "cell_type": "markdown",
   "metadata": {},
   "source": [
    "La columna de fechas no tiene formato original de fecha de este modo día/mes/año. Lo primero será realizar esta tranformación. Para ello se va a compronar lo primero que existan mínimo ocho dígitos para cada valor de esa columna ya que al formato que se desea convertir es dd/mm/yyyy. De no ser así no se podrá utiliza la función implícita de pandas para realizar dicha transformación."
   ]
  },
  {
   "cell_type": "code",
   "execution_count": null,
   "metadata": {},
   "outputs": [],
   "source": [
    "# Convertir la columna FEC_MATRICULA de int64 a str y añadir un \"0\" al principio\n",
    "data['FEC_MATRICULA'] = data['FEC_MATRICULA'].astype(str).str.zfill(8)\n",
    "\n",
    "# Convertir la columna FEC_MATRICULA a formato de fecha\n",
    "data['FEC_MATRICULA'] = pd.to_datetime(data['FEC_MATRICULA'], format='%d%m%Y')\n",
    "\n",
    "# Imprimir el DataFrame con las fechas corregidas\n",
    "print(data)"
   ]
  },
  {
   "cell_type": "markdown",
   "metadata": {},
   "source": [
    "3. Visualización del DataFrame."
   ]
  },
  {
   "cell_type": "code",
   "execution_count": null,
   "metadata": {},
   "outputs": [],
   "source": [
    "data.head(10)"
   ]
  },
  {
   "cell_type": "markdown",
   "metadata": {},
   "source": [
    "4. Visualización de los datos."
   ]
  },
  {
   "cell_type": "code",
   "execution_count": null,
   "metadata": {},
   "outputs": [],
   "source": [
    "num_filas = data.shape[0]\n",
    "num_columnas = data.shape[1]\n",
    "print(\"Número de filas:\", num_filas)\n",
    "print(\"Número de columnas:\", num_columnas)"
   ]
  },
  {
   "cell_type": "code",
   "execution_count": null,
   "metadata": {},
   "outputs": [],
   "source": [
    "data.describe()"
   ]
  },
  {
   "cell_type": "code",
   "execution_count": null,
   "metadata": {},
   "outputs": [],
   "source": [
    "# Calculamos la matriz de correlación entre las variables del DataFrame\n",
    "correlation_matrix = data.corr()\n",
    "\n",
    "# Mostramos la matriz de correlación\n",
    "print(\"\\nMatriz de correlación entre variables:\")\n",
    "print(correlation_matrix)"
   ]
  },
  {
   "cell_type": "code",
   "execution_count": null,
   "metadata": {},
   "outputs": [],
   "source": [
    "# Calculamos la matriz de correlación entre las variables del DataFrame\n",
    "correlation_matrix = data.corr()\n",
    "\n",
    "# Creamos un mapa de calor de la matriz de correlación\n",
    "plt.figure(figsize=(8, 6))\n",
    "sns.heatmap(correlation_matrix, annot=True, cmap='coolwarm', fmt=\".2f\", square=True)\n",
    "plt.title('Matriz de correlación')\n",
    "plt.show()"
   ]
  },
  {
   "cell_type": "markdown",
   "metadata": {},
   "source": [
    "- 4.1 Tamaño del DataFrame. "
   ]
  },
  {
   "cell_type": "markdown",
   "metadata": {},
   "source": [
    "- 4.2 Nombre de las columnas del DataFrame."
   ]
  },
  {
   "cell_type": "code",
   "execution_count": null,
   "metadata": {},
   "outputs": [],
   "source": [
    "nombre_columnas = data.columns\n",
    "print(nombre_columnas)"
   ]
  },
  {
   "cell_type": "markdown",
   "metadata": {},
   "source": [
    "- 4.3 Tipología de variables en las columnas del DataFrame."
   ]
  },
  {
   "cell_type": "code",
   "execution_count": null,
   "metadata": {},
   "outputs": [],
   "source": [
    "dtype_data = data.dtypes\n",
    "print(dtype_data)"
   ]
  },
  {
   "cell_type": "markdown",
   "metadata": {},
   "source": [
    "- 4.4 Valores faltantes en el DataFrame."
   ]
  },
  {
   "cell_type": "markdown",
   "metadata": {},
   "source": [
    "- 4.4.1  Resumen por cada columna."
   ]
  },
  {
   "cell_type": "code",
   "execution_count": null,
   "metadata": {},
   "outputs": [],
   "source": [
    "miss_values_data = data.isnull().sum()\n",
    "pd.set_option('display.max_rows', None)\n",
    "print(miss_values_data)"
   ]
  },
  {
   "cell_type": "markdown",
   "metadata": {},
   "source": [
    "- 4.4.2  Resumen por columnas de valores faltantes."
   ]
  },
  {
   "cell_type": "code",
   "execution_count": null,
   "metadata": {},
   "outputs": [],
   "source": [
    "miss_values_data = data.isnull().sum()\n",
    "miss_values_data = miss_values_data[miss_values_data != 0]\n",
    "print(miss_values_data)"
   ]
  },
  {
   "cell_type": "markdown",
   "metadata": {},
   "source": [
    "- 4.5 Agrupación por marca de vehículo."
   ]
  },
  {
   "cell_type": "markdown",
   "metadata": {},
   "source": [
    "- 4.5.1 Marcas de vehículos."
   ]
  },
  {
   "cell_type": "code",
   "execution_count": null,
   "metadata": {},
   "outputs": [],
   "source": [
    "todos_vehiculos =  data[\"MARCA\"].unique().tolist()\n",
    "print(todos_vehiculos)"
   ]
  },
  {
   "cell_type": "markdown",
   "metadata": {},
   "source": [
    "- 4.5.2 Número total de marcas de vehículos."
   ]
  },
  {
   "cell_type": "code",
   "execution_count": null,
   "metadata": {},
   "outputs": [],
   "source": [
    "num_total_marcas = len(todos_vehiculos)\n",
    "print(\"Total marcas = \", num_total_marcas)"
   ]
  },
  {
   "cell_type": "markdown",
   "metadata": {},
   "source": [
    "- 4.6 Agrupación por marca de vehículo."
   ]
  },
  {
   "cell_type": "markdown",
   "metadata": {},
   "source": [
    "- 4.6.1 Número total de vehículos según marca."
   ]
  },
  {
   "cell_type": "code",
   "execution_count": null,
   "metadata": {},
   "outputs": [],
   "source": [
    "resumen_por_marca = data['MARCA'].value_counts()\n",
    "resumen_por_marca"
   ]
  },
  {
   "cell_type": "code",
   "execution_count": null,
   "metadata": {},
   "outputs": [],
   "source": [
    "# Crear un DataFrame a partir del resumen\n",
    "resumen_por_marca_df = pd.DataFrame(resumen_por_marca)\n",
    "\n",
    "# Exportar el DataFrame a un archivo Excel\n",
    "resumen_por_marca_df.to_excel('resumen_por_marca.xlsx')"
   ]
  },
  {
   "cell_type": "markdown",
   "metadata": {},
   "source": [
    "- 4.6.2 Gráfica de Top20 de marcas de vehículos."
   ]
  },
  {
   "cell_type": "code",
   "execution_count": null,
   "metadata": {},
   "outputs": [],
   "source": [
    "top_marcas = resumen_por_marca.head(20).reset_index()\n",
    "top_marcas = resumen_por_marca.head(20).reset_index()\n",
    "\n",
    "# Ajustar el tamaño de la figura\n",
    "plt.figure(figsize=(15, 6))\n",
    "\n",
    "# Crear el gráfico utilizando Seaborn\n",
    "sns.barplot(data=top_marcas, x='index', y='MARCA', color='skyblue')\n",
    "\n",
    "# Añadir etiquetas y título\n",
    "plt.title('Resumen de vehículos por marca (Top 20)')\n",
    "plt.xlabel('Marca')\n",
    "plt.ylabel('Número de vehículos')\n",
    "plt.xticks(rotation=45, ha='right')\n",
    "\n",
    "# Mostrar el número exacto al pasar el mouse sobre las barras\n",
    "for index, value in enumerate(top_marcas['MARCA']):\n",
    "    plt.text(index, value + 50, str(value), ha='center')\n",
    "\n",
    "plt.tight_layout()\n",
    "plt.show()\n"
   ]
  },
  {
   "cell_type": "markdown",
   "metadata": {},
   "source": [
    "- 4.7 Matriculaciones de vehículos según marca y año."
   ]
  },
  {
   "cell_type": "markdown",
   "metadata": {},
   "source": [
    "- 4.7.1 Obtener año de cada columa de FEC_MATRICULA."
   ]
  },
  {
   "cell_type": "markdown",
   "metadata": {},
   "source": [
    "- 4.7.2 Clasificación del DataFrame según años: 2021/2022/2023"
   ]
  },
  {
   "cell_type": "markdown",
   "metadata": {},
   "source": [
    "Se crea un diccionario de DataFrames, uno para cada año"
   ]
  },
  {
   "cell_type": "code",
   "execution_count": null,
   "metadata": {},
   "outputs": [],
   "source": [
    "# Primero, convierte 'FEC_MATRICULA' a tipo de dato de fecha\n",
    "data['FEC_MATRICULA'] = pd.to_datetime(data['FEC_MATRICULA'], format='%d/%m/%Y')\n",
    "\n",
    "# Luego, crea un diccionario de DataFrames, uno para cada año\n",
    "data_por_año = {year: df for year, df in data.groupby(data['FEC_MATRICULA'].dt.year)}\n",
    "\n",
    "# Ahora tendrás un diccionario donde las claves son los años y los valores son DataFrames que contienen solo las filas correspondientes a ese año\n",
    "# Para acceder a los DataFrames separados por año, simplemente usa las claves del diccionario:\n",
    "data_2021 = data_por_año.get(2021)\n",
    "data_2022 = data_por_año.get(2022)\n",
    "data_2023 = data_por_año.get(2023)"
   ]
  },
  {
   "cell_type": "code",
   "execution_count": null,
   "metadata": {},
   "outputs": [],
   "source": [
    "# Exportar data_2021 a un archivo de texto\n",
    "data_2021.to_csv(\"data_2021.txt\", sep='\\t', index=False)  # sep='\\t' indica que el separador será un tabulador\n",
    "\n",
    "# Exportar data_2022 a un archivo de texto\n",
    "data_2022.to_csv(\"data_2022.txt\", sep='\\t', index=False)\n",
    "\n",
    "# Exportar data_2023 a un archivo de texto\n",
    "data_2023.to_csv(\"data_2023.txt\", sep='\\t', index=False)"
   ]
  },
  {
   "cell_type": "markdown",
   "metadata": {},
   "source": [
    "Se comprueba los encabezados y raíces del cada uno de los Dataframe creados."
   ]
  },
  {
   "cell_type": "code",
   "execution_count": null,
   "metadata": {},
   "outputs": [],
   "source": [
    "data_2021.head(5)"
   ]
  },
  {
   "cell_type": "code",
   "execution_count": null,
   "metadata": {},
   "outputs": [],
   "source": [
    "data_2021.tail(5)"
   ]
  },
  {
   "cell_type": "code",
   "execution_count": null,
   "metadata": {},
   "outputs": [],
   "source": [
    "data_2022.head(5)"
   ]
  },
  {
   "cell_type": "code",
   "execution_count": null,
   "metadata": {},
   "outputs": [],
   "source": [
    "data_2022.tail(5)"
   ]
  },
  {
   "cell_type": "code",
   "execution_count": null,
   "metadata": {},
   "outputs": [],
   "source": [
    "data_2023.head(5)"
   ]
  },
  {
   "cell_type": "code",
   "execution_count": null,
   "metadata": {},
   "outputs": [],
   "source": [
    "data_2023.tail(5)"
   ]
  },
  {
   "cell_type": "markdown",
   "metadata": {},
   "source": [
    "Se comprueba el total de filas de cada uno de los DataFrame creados."
   ]
  },
  {
   "cell_type": "code",
   "execution_count": null,
   "metadata": {},
   "outputs": [],
   "source": [
    "num_filas_2021 = data_2023.shape[0]\n",
    "num_filas_2022 = data_2023.shape[0]\n",
    "num_filas_2023 = data_2023.shape[0]\n",
    "\n",
    "print(\"Número de filas en data_2021:\", num_filas_2021)\n",
    "print(\"Número de filas en data_2022:\", num_filas_2022)\n",
    "print(\"Número de filas en data_2023:\", num_filas_2023)\n",
    "\n",
    "total_num_filas_sum = num_filas_2021 + num_filas_2022 + num_filas_2023\n",
    "print(\"Número total de filas sumadas = \" , total_num_filas_sum)"
   ]
  },
  {
   "cell_type": "markdown",
   "metadata": {},
   "source": [
    "El total no corresponde con el número total de filas del DataFrame original. La conclusión es que hay fechas que no contiene ocho dígitos, por lo que han sido eliminadas para poder trabajar con la función datetime de la librería pandas. Se comprueban cuantos patrones quedarán elimnados."
   ]
  },
  {
   "cell_type": "code",
   "execution_count": null,
   "metadata": {},
   "outputs": [],
   "source": [
    "patrones_eliminados = num_filas - total_num_filas_sum\n",
    "print(\"Número de patrones eliminados = \", patrones_eliminados)"
   ]
  },
  {
   "cell_type": "markdown",
   "metadata": {},
   "source": [
    "- 4.7.3 CLasificación de vehículos 2021."
   ]
  },
  {
   "cell_type": "markdown",
   "metadata": {},
   "source": [
    "- 4.7.3.1 Número total de vehículos por marca del año 2021."
   ]
  },
  {
   "cell_type": "code",
   "execution_count": null,
   "metadata": {},
   "outputs": [],
   "source": [
    "resumen_por_marca_2021= data_2021['MARCA'].value_counts()\n",
    "resumen_por_marca_2021"
   ]
  },
  {
   "cell_type": "markdown",
   "metadata": {},
   "source": [
    "- 4.7.3.2 Gráfica de Top20 de marcas de vehículos en el año 2021."
   ]
  },
  {
   "cell_type": "code",
   "execution_count": null,
   "metadata": {},
   "outputs": [],
   "source": [
    "top_marcas_2021 = resumen_por_marca_2021.head(20).reset_index()\n",
    "\n",
    "# Ajustar el tamaño de la figura\n",
    "plt.figure(figsize=(15, 6))\n",
    "\n",
    "# Crear el gráfico utilizando Seaborn\n",
    "sns.barplot(data=top_marcas_2021, x='index', y='MARCA', color='skyblue')\n",
    "\n",
    "# Añadir etiquetas y título\n",
    "plt.title('Resumen de vehículos por marca (Top 20). Año 2021')\n",
    "plt.xlabel('Marca')\n",
    "plt.ylabel('Número de vehículos')\n",
    "plt.xticks(rotation=45, ha='right')\n",
    "\n",
    "# Mostrar el número exacto al pasar el mouse sobre las barras\n",
    "for index, value in enumerate(top_marcas_2021['MARCA']):\n",
    "    plt.text(index, value + 50, str(value), ha='center')\n",
    "\n",
    "plt.tight_layout()\n",
    "plt.show()"
   ]
  },
  {
   "cell_type": "markdown",
   "metadata": {},
   "source": [
    "- 4.7.4 CLasificación de vehículos 2022."
   ]
  },
  {
   "cell_type": "markdown",
   "metadata": {},
   "source": [
    "- 4.7.4.1 Número total de vehículos por marca del año 2022."
   ]
  },
  {
   "cell_type": "code",
   "execution_count": null,
   "metadata": {},
   "outputs": [],
   "source": [
    "resumen_por_marca_2022= data_2022['MARCA'].value_counts()\n",
    "resumen_por_marca_2022"
   ]
  },
  {
   "cell_type": "markdown",
   "metadata": {},
   "source": [
    "- 4.7.4.2 Gráfica de Top20 de marcas de vehículos en el año 2022."
   ]
  },
  {
   "cell_type": "code",
   "execution_count": null,
   "metadata": {},
   "outputs": [],
   "source": [
    "top_marcas_2022 = resumen_por_marca_2022.head(20).reset_index()\n",
    "\n",
    "# Ajustar el tamaño de la figura\n",
    "plt.figure(figsize=(15, 6))\n",
    "\n",
    "# Crear el gráfico utilizando Seaborn\n",
    "sns.barplot(data=top_marcas_2022, x='index', y='MARCA', color='skyblue')\n",
    "\n",
    "# Añadir etiquetas y título\n",
    "plt.title('Resumen de vehículos por marca (Top 20) Año 2022')\n",
    "plt.xlabel('Marca')\n",
    "plt.ylabel('Número de vehículos')\n",
    "plt.xticks(rotation=45, ha='right')\n",
    "\n",
    "# Mostrar el número exacto al pasar el mouse sobre las barras\n",
    "for index, value in enumerate(top_marcas_2022['MARCA']):\n",
    "    plt.text(index, value + 50, str(value), ha='center')\n",
    "\n",
    "plt.tight_layout()\n",
    "plt.show()"
   ]
  },
  {
   "cell_type": "markdown",
   "metadata": {},
   "source": [
    "- 4.7.5 CLasificación de vehículos 2023."
   ]
  },
  {
   "cell_type": "markdown",
   "metadata": {},
   "source": [
    "- 4.7.5.1 Número total de vehículos por marca del año 2023."
   ]
  },
  {
   "cell_type": "code",
   "execution_count": null,
   "metadata": {},
   "outputs": [],
   "source": [
    "resumen_por_marca_2023= data_2023['MARCA'].value_counts()\n",
    "resumen_por_marca_2023"
   ]
  },
  {
   "cell_type": "markdown",
   "metadata": {},
   "source": [
    "- 4.7.5.2 Gráfica de Top20 de marcas de vehículos en el año 2023."
   ]
  },
  {
   "cell_type": "code",
   "execution_count": null,
   "metadata": {},
   "outputs": [],
   "source": [
    "top_marcas_2023 = resumen_por_marca_2023.head(20).reset_index()\n",
    "\n",
    "# Ajustar el tamaño de la figura\n",
    "plt.figure(figsize=(15, 6))\n",
    "\n",
    "# Crear el gráfico utilizando Seaborn\n",
    "sns.barplot(data=top_marcas_2023, x='index', y='MARCA', color='skyblue')\n",
    "\n",
    "# Añadir etiquetas y título\n",
    "plt.title('Resumen de vehículos por marca (Top 20). Año 2023')\n",
    "plt.xlabel('Marca')\n",
    "plt.ylabel('Número de vehículos')\n",
    "plt.xticks(rotation=45, ha='right')\n",
    "\n",
    "# Mostrar el número exacto al pasar el mouse sobre las barras\n",
    "for index, value in enumerate(top_marcas_2023['MARCA']):\n",
    "    plt.text(index, value + 50, str(value), ha='center')\n",
    "\n",
    "plt.tight_layout()\n",
    "plt.show()"
   ]
  },
  {
   "cell_type": "code",
   "execution_count": null,
   "metadata": {},
   "outputs": [],
   "source": [
    "codigos_postales = {\n",
    "    '1': 'Álava',\n",
    "    '2': 'Albacete',\n",
    "    '3': 'Alicante',\n",
    "    '4': 'Almería',\n",
    "    '5': 'Ávila',\n",
    "    '6': 'Badajoz',\n",
    "    '7': 'Baleares',\n",
    "    '8': 'Barcelona',\n",
    "    '9': 'Burgos',\n",
    "    '10': 'Cáceres',\n",
    "    '11': 'Cádiz',\n",
    "    '12': 'Castellón',\n",
    "    '13': 'Ciudad Real',\n",
    "    '14': 'Córdoba',\n",
    "    '15': 'La Coruña',\n",
    "    '16': 'Cuenca',\n",
    "    '17': 'Gerona',\n",
    "    '18': 'Granada',\n",
    "    '19': 'Guadalajara',\n",
    "    '20': 'Guipúzcoa',\n",
    "    '21': 'Huelva',\n",
    "    '22': 'Huesca',\n",
    "    '23': 'Jaén',\n",
    "    '24': 'León',\n",
    "    '25': 'Lérida',\n",
    "    '26': 'La Rioja',\n",
    "    '27': 'Lugo',\n",
    "    '28': 'Madrid',\n",
    "    '29': 'Málaga',\n",
    "    '30': 'Murcia',\n",
    "    '31': 'Navarra',\n",
    "    '32': 'Orense',\n",
    "    '33': 'Asturias',\n",
    "    '34': 'Palencia',\n",
    "    '35': 'Las Palmas',\n",
    "    '36': 'Pontevedra',\n",
    "    '37': 'Salamanca',\n",
    "    '38': 'Santa Cruz de Tenerife',\n",
    "    '39': 'Cantabria',\n",
    "    '40': 'Segovia',\n",
    "    '41': 'Sevilla',\n",
    "    '42': 'Soria',\n",
    "    '43': 'Tarragona',\n",
    "    '44': 'Teruel',\n",
    "    '45': 'Toledo',\n",
    "    '46': 'Valencia',\n",
    "    '47': 'Valladolid',\n",
    "    '48': 'Vizcaya',\n",
    "    '49': 'Zamora',\n",
    "    '50': 'Zaragoza',\n",
    "    '51': 'Ceuta',\n",
    "    '52': 'Melilla'\n",
    "}\n",
    "# Extraer los dos primeros dígitos y crear una nueva columna\n",
    "data_2021['DOS_PRIMEROS_DIGITOS'] = data_2021['CODIGO_POSTAL'] // 1000\n",
    "\n",
    "\n",
    "# Mapear los códigos postales a los nombres de ciudad\n",
    "data_2021['CIUDAD'] = data_2021['DOS_PRIMEROS_DIGITOS'].astype(str).map(codigos_postales)\n",
    "print(data_2021['CIUDAD'])"
   ]
  },
  {
   "cell_type": "code",
   "execution_count": null,
   "metadata": {},
   "outputs": [],
   "source": [
    "# Lista de marcas de interés\n",
    "marcas_interes = ['VOLKSWAGEN', 'PEUGEOT', 'TOYOTA', 'RENAULT', 'CITROEN', 'MERCEDES-BENZ',\n",
    "                  'KIA', 'SEAT', 'BMW', 'HYUNDAI']\n",
    "\n",
    "# Filtrar el DataFrame para quedarnos solo con las marcas de interés\n",
    "data_2021_filtrado = data_2021[data_2021['MARCA'].isin(marcas_interes)]\n",
    "\n",
    "# Agrupación y conteo de ventas por marca y municipio\n",
    "agrupado_2021 = data_2021_filtrado.groupby(['CIUDAD', 'MARCA']).size().unstack(fill_value=0).reset_index()\n",
    "agrupado_2021.to_excel('agrupado_2021.xlsx', index=False)\n",
    "agrupado_2021"
   ]
  },
  {
   "cell_type": "code",
   "execution_count": null,
   "metadata": {},
   "outputs": [],
   "source": [
    "# Extraer los dos primeros dígitos y crear una nueva columna\n",
    "data_2022['DOS_PRIMEROS_DIGITOS'] = data_2022['CODIGO_POSTAL'] // 1000\n",
    "\n",
    "\n",
    "# Mapear los códigos postales a los nombres de ciudad\n",
    "data_2022['CIUDAD'] = data_2022['DOS_PRIMEROS_DIGITOS'].astype(str).map(codigos_postales)\n",
    "print(data_2022['CIUDAD'])\n",
    "\n",
    "# Lista de marcas de interés\n",
    "marcas_interes = ['VOLKSWAGEN', 'PEUGEOT', 'TOYOTA', 'RENAULT', 'CITROEN', 'MERCEDES-BENZ',\n",
    "                  'KIA', 'SEAT', 'BMW', 'HYUNDAI']\n",
    "\n",
    "# Filtrar el DataFrame para quedarnos solo con las marcas de interés\n",
    "data_2022_filtrado = data_2022[data_2022['MARCA'].isin(marcas_interes)]\n",
    "\n",
    "# Agrupación y conteo de ventas por marca y municipio\n",
    "agrupado_2022 = data_2022_filtrado.groupby(['CIUDAD', 'MARCA']).size().unstack(fill_value=0).reset_index()\n",
    "agrupado_2022.to_excel('agrupado_2021.xlsx', index=False)\n",
    "agrupado_2022"
   ]
  },
  {
   "cell_type": "code",
   "execution_count": null,
   "metadata": {},
   "outputs": [],
   "source": [
    "# Extraer los dos primeros dígitos y crear una nueva columna\n",
    "data_2023['DOS_PRIMEROS_DIGITOS'] = data_2023['CODIGO_POSTAL'] // 1000\n",
    "\n",
    "\n",
    "# Mapear los códigos postales a los nombres de ciudad\n",
    "data_2023['CIUDAD'] = data_2023['DOS_PRIMEROS_DIGITOS'].astype(str).map(codigos_postales)\n",
    "print(data_2023['CIUDAD'])\n",
    "\n",
    "# Lista de marcas de interés\n",
    "marcas_interes = ['VOLKSWAGEN', 'PEUGEOT', 'TOYOTA', 'RENAULT', 'CITROEN', 'MERCEDES-BENZ',\n",
    "                  'KIA', 'SEAT', 'BMW', 'HYUNDAI']\n",
    "\n",
    "# Filtrar el DataFrame para quedarnos solo con las marcas de interés\n",
    "data_2023_filtrado = data_2023[data_2023['MARCA'].isin(marcas_interes)]\n",
    "\n",
    "# Agrupación y conteo de ventas por marca y municipio\n",
    "agrupado_2023 = data_2023_filtrado.groupby(['CIUDAD', 'MARCA']).size().unstack(fill_value=0).reset_index()\n",
    "agrupado_2023.to_excel('agrupado_2021.xlsx', index=False)\n",
    "agrupado_2023"
   ]
  }
 ],
 "metadata": {
  "kernelspec": {
   "display_name": "Python 3",
   "language": "python",
   "name": "python3"
  },
  "language_info": {
   "codemirror_mode": {
    "name": "ipython",
    "version": 3
   },
   "file_extension": ".py",
   "mimetype": "text/x-python",
   "name": "python",
   "nbconvert_exporter": "python",
   "pygments_lexer": "ipython3",
   "version": "3.11.0"
  }
 },
 "nbformat": 4,
 "nbformat_minor": 2
}
